{
  "nbformat": 4,
  "nbformat_minor": 0,
  "metadata": {
    "colab": {
      "name": "Untitled7.ipynb",
      "provenance": [],
      "authorship_tag": "ABX9TyMMsuYUQTJxSudf0mKtoHKW",
      "include_colab_link": true
    },
    "kernelspec": {
      "name": "python3",
      "display_name": "Python 3"
    }
  },
  "cells": [
    {
      "cell_type": "markdown",
      "metadata": {
        "id": "view-in-github",
        "colab_type": "text"
      },
      "source": [
        "<a href=\"https://colab.research.google.com/github/clementsiegrist/3D_reconstruction/blob/main/monocap.ipynb\" target=\"_parent\"><img src=\"https://colab.research.google.com/assets/colab-badge.svg\" alt=\"Open In Colab\"/></a>"
      ]
    },
    {
      "cell_type": "code",
      "metadata": {
        "colab": {
          "base_uri": "https://localhost:8080/"
        },
        "id": "ZBJDeEPTz540",
        "outputId": "f879194b-c1c3-42f0-de5b-2c12616ba734"
      },
      "source": [
        "!git clone https://github.com/Project-Splinter/MonoPort.git"
      ],
      "execution_count": 1,
      "outputs": [
        {
          "output_type": "stream",
          "text": [
            "Cloning into 'MonoPort'...\n",
            "remote: Enumerating objects: 522, done.\u001b[K\n",
            "remote: Counting objects: 100% (522/522), done.\u001b[K\n",
            "remote: Compressing objects: 100% (291/291), done.\u001b[K\n",
            "remote: Total 522 (delta 248), reused 469 (delta 213), pack-reused 0\u001b[K\n",
            "Receiving objects: 100% (522/522), 53.67 MiB | 28.82 MiB/s, done.\n",
            "Resolving deltas: 100% (248/248), done.\n"
          ],
          "name": "stdout"
        }
      ]
    },
    {
      "cell_type": "code",
      "metadata": {
        "colab": {
          "base_uri": "https://localhost:8080/"
        },
        "id": "ZuVSebXy0iwv",
        "outputId": "74461101-3dd7-445d-c301-16e18b364b03"
      },
      "source": [
        "%cd /content/MonoPort"
      ],
      "execution_count": 3,
      "outputs": [
        {
          "output_type": "stream",
          "text": [
            "/content/MonoPort\n"
          ],
          "name": "stdout"
        }
      ]
    },
    {
      "cell_type": "code",
      "metadata": {
        "id": "Jr6Kyelc1iWi"
      },
      "source": [
        "import sys, setuptools, tokenize"
      ],
      "execution_count": 5,
      "outputs": []
    },
    {
      "cell_type": "code",
      "metadata": {
        "colab": {
          "base_uri": "https://localhost:8080/"
        },
        "id": "6OFtbtln0fRf",
        "outputId": "2bc5d6d2-bfb0-4b24-aa21-66433513b6aa"
      },
      "source": [
        "!pip install -r requirements.txt"
      ],
      "execution_count": 6,
      "outputs": [
        {
          "output_type": "stream",
          "text": [
            "Requirement already satisfied: numpy in /usr/local/lib/python3.6/dist-packages (from -r requirements.txt (line 1)) (1.19.5)\n",
            "Requirement already satisfied: torch==1.4.0 in /usr/local/lib/python3.6/dist-packages (from -r requirements.txt (line 2)) (1.4.0)\n",
            "Requirement already satisfied: torchvision in /usr/local/lib/python3.6/dist-packages (from -r requirements.txt (line 3)) (0.8.1+cu101)\n",
            "Requirement already satisfied: Pillow in /usr/local/lib/python3.6/dist-packages (from -r requirements.txt (line 4)) (7.0.0)\n",
            "Requirement already satisfied: flask in /usr/local/lib/python3.6/dist-packages (from -r requirements.txt (line 5)) (1.1.2)\n",
            "Requirement already satisfied: scikit-image in /usr/local/lib/python3.6/dist-packages (from -r requirements.txt (line 6)) (0.16.2)\n",
            "Requirement already satisfied: opencv-python in /usr/local/lib/python3.6/dist-packages (from -r requirements.txt (line 7)) (4.1.2.30)\n",
            "Requirement already satisfied: tqdm in /usr/local/lib/python3.6/dist-packages (from -r requirements.txt (line 8)) (4.41.1)\n",
            "Requirement already satisfied: imageio in /usr/local/lib/python3.6/dist-packages (from -r requirements.txt (line 9)) (2.4.1)\n",
            "Requirement already satisfied: yacs in /usr/local/lib/python3.6/dist-packages (from -r requirements.txt (line 10)) (0.1.8)\n",
            "Requirement already satisfied: pyopengl in /usr/local/lib/python3.6/dist-packages (from -r requirements.txt (line 11)) (3.1.5)\n",
            "Requirement already satisfied: imageio-ffmpeg in /usr/local/lib/python3.6/dist-packages (from -r requirements.txt (line 12)) (0.4.3)\n",
            "Requirement already satisfied: human-det@ git+https://github.com/Project-Splinter/human_det from git+https://github.com/Project-Splinter/human_det in /usr/local/lib/python3.6/dist-packages (from -r requirements.txt (line 13)) (0.0.2)\n",
            "Requirement already satisfied: human-inst-seg@ git+https://github.com/Project-Splinter/human_inst_seg from git+https://github.com/Project-Splinter/human_inst_seg in /usr/local/lib/python3.6/dist-packages (from -r requirements.txt (line 14)) (0.0.2)\n",
            "Collecting implicit-seg@ git+https://github.com/Project-Splinter/ImplicitSegCUDA\n",
            "  Cloning https://github.com/Project-Splinter/ImplicitSegCUDA to /tmp/pip-install-zyepfcx5/implicit-seg\n",
            "  Running command git clone -q https://github.com/Project-Splinter/ImplicitSegCUDA /tmp/pip-install-zyepfcx5/implicit-seg\n",
            "Collecting streamer-pytorch@ git+https://github.com/Project-Splinter/streamer_pytorch\n",
            "  Cloning https://github.com/Project-Splinter/streamer_pytorch to /tmp/pip-install-zyepfcx5/streamer-pytorch\n",
            "  Running command git clone -q https://github.com/Project-Splinter/streamer_pytorch /tmp/pip-install-zyepfcx5/streamer-pytorch\n",
            "Requirement already satisfied: click>=5.1 in /usr/local/lib/python3.6/dist-packages (from flask->-r requirements.txt (line 5)) (7.1.2)\n",
            "Requirement already satisfied: Werkzeug>=0.15 in /usr/local/lib/python3.6/dist-packages (from flask->-r requirements.txt (line 5)) (1.0.1)\n",
            "Requirement already satisfied: itsdangerous>=0.24 in /usr/local/lib/python3.6/dist-packages (from flask->-r requirements.txt (line 5)) (1.1.0)\n",
            "Requirement already satisfied: Jinja2>=2.10.1 in /usr/local/lib/python3.6/dist-packages (from flask->-r requirements.txt (line 5)) (2.11.2)\n",
            "Requirement already satisfied: matplotlib!=3.0.0,>=2.0.0 in /usr/local/lib/python3.6/dist-packages (from scikit-image->-r requirements.txt (line 6)) (3.2.2)\n",
            "Requirement already satisfied: networkx>=2.0 in /usr/local/lib/python3.6/dist-packages (from scikit-image->-r requirements.txt (line 6)) (2.5)\n",
            "Requirement already satisfied: scipy>=0.19.0 in /usr/local/lib/python3.6/dist-packages (from scikit-image->-r requirements.txt (line 6)) (1.4.1)\n",
            "Requirement already satisfied: PyWavelets>=0.4.0 in /usr/local/lib/python3.6/dist-packages (from scikit-image->-r requirements.txt (line 6)) (1.1.1)\n",
            "Requirement already satisfied: PyYAML in /usr/local/lib/python3.6/dist-packages (from yacs->-r requirements.txt (line 10)) (3.13)\n",
            "Requirement already satisfied: segmentation-models-pytorch@ git+https://github.com/qubvel/segmentation_models.pytorch from git+https://github.com/qubvel/segmentation_models.pytorch in /usr/local/lib/python3.6/dist-packages (from human-inst-seg@ git+https://github.com/Project-Splinter/human_inst_seg->-r requirements.txt (line 14)) (0.1.3)\n",
            "Requirement already satisfied: MarkupSafe>=0.23 in /usr/local/lib/python3.6/dist-packages (from Jinja2>=2.10.1->flask->-r requirements.txt (line 5)) (1.1.1)\n",
            "Requirement already satisfied: python-dateutil>=2.1 in /usr/local/lib/python3.6/dist-packages (from matplotlib!=3.0.0,>=2.0.0->scikit-image->-r requirements.txt (line 6)) (2.8.1)\n",
            "Requirement already satisfied: pyparsing!=2.0.4,!=2.1.2,!=2.1.6,>=2.0.1 in /usr/local/lib/python3.6/dist-packages (from matplotlib!=3.0.0,>=2.0.0->scikit-image->-r requirements.txt (line 6)) (2.4.7)\n",
            "Requirement already satisfied: kiwisolver>=1.0.1 in /usr/local/lib/python3.6/dist-packages (from matplotlib!=3.0.0,>=2.0.0->scikit-image->-r requirements.txt (line 6)) (1.3.1)\n",
            "Requirement already satisfied: cycler>=0.10 in /usr/local/lib/python3.6/dist-packages (from matplotlib!=3.0.0,>=2.0.0->scikit-image->-r requirements.txt (line 6)) (0.10.0)\n",
            "Requirement already satisfied: decorator>=4.3.0 in /usr/local/lib/python3.6/dist-packages (from networkx>=2.0->scikit-image->-r requirements.txt (line 6)) (4.4.2)\n",
            "Requirement already satisfied: pretrainedmodels==0.7.4 in /usr/local/lib/python3.6/dist-packages (from segmentation-models-pytorch@ git+https://github.com/qubvel/segmentation_models.pytorch->human-inst-seg@ git+https://github.com/Project-Splinter/human_inst_seg->-r requirements.txt (line 14)) (0.7.4)\n",
            "Requirement already satisfied: efficientnet-pytorch==0.6.3 in /usr/local/lib/python3.6/dist-packages (from segmentation-models-pytorch@ git+https://github.com/qubvel/segmentation_models.pytorch->human-inst-seg@ git+https://github.com/Project-Splinter/human_inst_seg->-r requirements.txt (line 14)) (0.6.3)\n",
            "Requirement already satisfied: timm==0.3.2 in /usr/local/lib/python3.6/dist-packages (from segmentation-models-pytorch@ git+https://github.com/qubvel/segmentation_models.pytorch->human-inst-seg@ git+https://github.com/Project-Splinter/human_inst_seg->-r requirements.txt (line 14)) (0.3.2)\n",
            "Requirement already satisfied: six>=1.5 in /usr/local/lib/python3.6/dist-packages (from python-dateutil>=2.1->matplotlib!=3.0.0,>=2.0.0->scikit-image->-r requirements.txt (line 6)) (1.15.0)\n",
            "Requirement already satisfied: munch in /usr/local/lib/python3.6/dist-packages (from pretrainedmodels==0.7.4->segmentation-models-pytorch@ git+https://github.com/qubvel/segmentation_models.pytorch->human-inst-seg@ git+https://github.com/Project-Splinter/human_inst_seg->-r requirements.txt (line 14)) (2.5.0)\n",
            "Building wheels for collected packages: implicit-seg, streamer-pytorch\n",
            "  Building wheel for implicit-seg (setup.py) ... \u001b[?25lerror\n",
            "\u001b[31m  ERROR: Failed building wheel for implicit-seg\u001b[0m\n",
            "\u001b[?25h  Running setup.py clean for implicit-seg\n",
            "  Building wheel for streamer-pytorch (setup.py) ... \u001b[?25l\u001b[?25hdone\n",
            "  Created wheel for streamer-pytorch: filename=streamer_pytorch-0.0.2-cp36-none-any.whl size=3774 sha256=6740289e18b4577b036e04f709c57440c2642ca739959c2cb8303e1f5e12b18a\n",
            "  Stored in directory: /tmp/pip-ephem-wheel-cache-cp0b9imx/wheels/25/9c/39/dd023a03fd6206825035884989eeb81b73b4d35f670d0ba38e\n",
            "Successfully built streamer-pytorch\n",
            "Failed to build implicit-seg\n",
            "Installing collected packages: implicit-seg, streamer-pytorch\n",
            "    Running setup.py install for implicit-seg ... \u001b[?25l\u001b[?25herror\n",
            "\u001b[31mERROR: Command errored out with exit status 1: /usr/bin/python3 -u -c 'import sys, setuptools, tokenize; sys.argv[0] = '\"'\"'/tmp/pip-install-zyepfcx5/implicit-seg/setup.py'\"'\"'; __file__='\"'\"'/tmp/pip-install-zyepfcx5/implicit-seg/setup.py'\"'\"';f=getattr(tokenize, '\"'\"'open'\"'\"', open)(__file__);code=f.read().replace('\"'\"'\\r\\n'\"'\"', '\"'\"'\\n'\"'\"');f.close();exec(compile(code, __file__, '\"'\"'exec'\"'\"'))' install --record /tmp/pip-record-t8w4eu0s/install-record.txt --single-version-externally-managed --compile Check the logs for full command output.\u001b[0m\n"
          ],
          "name": "stdout"
        }
      ]
    },
    {
      "cell_type": "code",
      "metadata": {
        "colab": {
          "base_uri": "https://localhost:8080/"
        },
        "id": "6pf5tbXL2PW7",
        "outputId": "09c6b8b7-dacf-4289-dba4-b08d30715b72"
      },
      "source": [
        "!pip install implicit-seg"
      ],
      "execution_count": 8,
      "outputs": [
        {
          "output_type": "stream",
          "text": [
            "\u001b[31mERROR: Could not find a version that satisfies the requirement implicit-seg (from versions: none)\u001b[0m\n",
            "\u001b[31mERROR: No matching distribution found for implicit-seg\u001b[0m\n"
          ],
          "name": "stdout"
        }
      ]
    },
    {
      "cell_type": "code",
      "metadata": {
        "id": "pV-IgCZU4nkD"
      },
      "source": [
        "import turtle"
      ],
      "execution_count": 11,
      "outputs": []
    },
    {
      "cell_type": "code",
      "metadata": {
        "colab": {
          "base_uri": "https://localhost:8080/"
        },
        "id": "MfWalF2C4J6D",
        "outputId": "da1f3253-2ecd-46d9-a4f2-9939ee4ab7a8"
      },
      "source": [
        "!pip install git+https://github.com/Project-Splinter/ImplicitSegCUDA --upgrade"
      ],
      "execution_count": 12,
      "outputs": [
        {
          "output_type": "stream",
          "text": [
            "Collecting git+https://github.com/Project-Splinter/ImplicitSegCUDA\n",
            "  Cloning https://github.com/Project-Splinter/ImplicitSegCUDA to /tmp/pip-req-build-e4_r_w9n\n",
            "  Running command git clone -q https://github.com/Project-Splinter/ImplicitSegCUDA /tmp/pip-req-build-e4_r_w9n\n",
            "Requirement already satisfied, skipping upgrade: torch in /usr/local/lib/python3.6/dist-packages (from implicit-seg==0.0.2) (1.4.0)\n",
            "Requirement already satisfied, skipping upgrade: torchvision in /usr/local/lib/python3.6/dist-packages (from implicit-seg==0.0.2) (0.8.1+cu101)\n",
            "Requirement already satisfied, skipping upgrade: matplotlib in /usr/local/lib/python3.6/dist-packages (from implicit-seg==0.0.2) (3.2.2)\n",
            "Requirement already satisfied, skipping upgrade: pillow>=4.1.1 in /usr/local/lib/python3.6/dist-packages (from torchvision->implicit-seg==0.0.2) (7.0.0)\n",
            "Requirement already satisfied, skipping upgrade: numpy in /usr/local/lib/python3.6/dist-packages (from torchvision->implicit-seg==0.0.2) (1.19.5)\n",
            "Requirement already satisfied, skipping upgrade: cycler>=0.10 in /usr/local/lib/python3.6/dist-packages (from matplotlib->implicit-seg==0.0.2) (0.10.0)\n",
            "Requirement already satisfied, skipping upgrade: pyparsing!=2.0.4,!=2.1.2,!=2.1.6,>=2.0.1 in /usr/local/lib/python3.6/dist-packages (from matplotlib->implicit-seg==0.0.2) (2.4.7)\n",
            "Requirement already satisfied, skipping upgrade: python-dateutil>=2.1 in /usr/local/lib/python3.6/dist-packages (from matplotlib->implicit-seg==0.0.2) (2.8.1)\n",
            "Requirement already satisfied, skipping upgrade: kiwisolver>=1.0.1 in /usr/local/lib/python3.6/dist-packages (from matplotlib->implicit-seg==0.0.2) (1.3.1)\n",
            "Requirement already satisfied, skipping upgrade: six in /usr/local/lib/python3.6/dist-packages (from cycler>=0.10->matplotlib->implicit-seg==0.0.2) (1.15.0)\n",
            "Building wheels for collected packages: implicit-seg\n",
            "  Building wheel for implicit-seg (setup.py) ... \u001b[?25lerror\n",
            "\u001b[31m  ERROR: Failed building wheel for implicit-seg\u001b[0m\n",
            "\u001b[?25h  Running setup.py clean for implicit-seg\n",
            "Failed to build implicit-seg\n",
            "Installing collected packages: implicit-seg\n",
            "    Running setup.py install for implicit-seg ... \u001b[?25l\u001b[?25herror\n",
            "\u001b[31mERROR: Command errored out with exit status 1: /usr/bin/python3 -u -c 'import sys, setuptools, tokenize; sys.argv[0] = '\"'\"'/tmp/pip-req-build-e4_r_w9n/setup.py'\"'\"'; __file__='\"'\"'/tmp/pip-req-build-e4_r_w9n/setup.py'\"'\"';f=getattr(tokenize, '\"'\"'open'\"'\"', open)(__file__);code=f.read().replace('\"'\"'\\r\\n'\"'\"', '\"'\"'\\n'\"'\"');f.close();exec(compile(code, __file__, '\"'\"'exec'\"'\"'))' install --record /tmp/pip-record-y2532nyc/install-record.txt --single-version-externally-managed --compile Check the logs for full command output.\u001b[0m\n"
          ],
          "name": "stdout"
        }
      ]
    },
    {
      "cell_type": "code",
      "metadata": {
        "id": "G8_GgrCh1KOp"
      },
      "source": [
        "!sh scripts/download_model.sh"
      ],
      "execution_count": null,
      "outputs": []
    },
    {
      "cell_type": "code",
      "metadata": {
        "colab": {
          "base_uri": "https://localhost:8080/"
        },
        "id": "0ah2mdrG3mxr",
        "outputId": "7f5f4b31-49c8-46d3-fe43-9f33f5416cd3"
      },
      "source": [
        "!git clone https://github.com/Project-Splinter/ImplicitSegCUDA"
      ],
      "execution_count": 13,
      "outputs": [
        {
          "output_type": "stream",
          "text": [
            "Cloning into 'ImplicitSegCUDA'...\n",
            "remote: Enumerating objects: 263, done.\u001b[K\n",
            "remote: Counting objects: 100% (263/263), done.\u001b[K\n",
            "remote: Compressing objects: 100% (128/128), done.\u001b[K\n",
            "remote: Total 263 (delta 153), reused 240 (delta 132), pack-reused 0\u001b[K\n",
            "Receiving objects: 100% (263/263), 48.43 KiB | 826.00 KiB/s, done.\n",
            "Resolving deltas: 100% (153/153), done.\n"
          ],
          "name": "stdout"
        }
      ]
    },
    {
      "cell_type": "code",
      "metadata": {
        "colab": {
          "base_uri": "https://localhost:8080/"
        },
        "id": "XVP9hhwx5uGs",
        "outputId": "bc42ace4-cb1c-43b1-ea0e-854534b79aa0"
      },
      "source": [
        "cd ImplicitSegCUDA/"
      ],
      "execution_count": 14,
      "outputs": [
        {
          "output_type": "stream",
          "text": [
            "/content/MonoPort/ImplicitSegCUDA\n"
          ],
          "name": "stdout"
        }
      ]
    },
    {
      "cell_type": "code",
      "metadata": {
        "colab": {
          "base_uri": "https://localhost:8080/"
        },
        "id": "Jdh8S86B58mW",
        "outputId": "9dc0d0be-eb83-4f2c-a5e2-200b234d8835"
      },
      "source": [
        "!python setup.py develop"
      ],
      "execution_count": 15,
      "outputs": [
        {
          "output_type": "stream",
          "text": [
            "No CUDA runtime is found, using CUDA_HOME='/usr/local/cuda'\n",
            "running develop\n",
            "running egg_info\n",
            "creating implicit_seg.egg-info\n",
            "writing implicit_seg.egg-info/PKG-INFO\n",
            "writing dependency_links to implicit_seg.egg-info/dependency_links.txt\n",
            "writing requirements to implicit_seg.egg-info/requires.txt\n",
            "writing top-level names to implicit_seg.egg-info/top_level.txt\n",
            "writing manifest file 'implicit_seg.egg-info/SOURCES.txt'\n",
            "package init file 'implicit_seg/__init__.py' not found (or not a regular file)\n",
            "package init file 'implicit_seg/cuda/__init__.py' not found (or not a regular file)\n",
            "writing manifest file 'implicit_seg.egg-info/SOURCES.txt'\n",
            "running build_ext\n",
            "building 'implicit_seg.cuda.interp2x_boundary2d' extension\n",
            "creating build\n",
            "creating build/temp.linux-x86_64-3.6\n",
            "creating build/temp.linux-x86_64-3.6/implicit_seg\n",
            "creating build/temp.linux-x86_64-3.6/implicit_seg/cuda\n",
            "x86_64-linux-gnu-gcc -pthread -DNDEBUG -g -fwrapv -O2 -Wall -g -fstack-protector-strong -Wformat -Werror=format-security -Wdate-time -D_FORTIFY_SOURCE=2 -fPIC -I/usr/local/lib/python3.6/dist-packages/torch/include -I/usr/local/lib/python3.6/dist-packages/torch/include/torch/csrc/api/include -I/usr/local/lib/python3.6/dist-packages/torch/include/TH -I/usr/local/lib/python3.6/dist-packages/torch/include/THC -I/usr/local/cuda/include -I/usr/include/python3.6m -c implicit_seg/cuda/interp2x_boundary2d.cpp -o build/temp.linux-x86_64-3.6/implicit_seg/cuda/interp2x_boundary2d.o -DTORCH_API_INCLUDE_EXTENSION_H -DTORCH_EXTENSION_NAME=interp2x_boundary2d -D_GLIBCXX_USE_CXX11_ABI=0 -std=c++11\n",
            "THCudaCheck FAIL file=/pytorch/aten/src/THC/THCGeneral.cpp line=50 error=100 : no CUDA-capable device is detected\n",
            "Traceback (most recent call last):\n",
            "  File \"setup.py\", line 29, in <module>\n",
            "    cmdclass={'build_ext': BuildExtension},\n",
            "  File \"/usr/local/lib/python3.6/dist-packages/setuptools/__init__.py\", line 153, in setup\n",
            "    return distutils.core.setup(**attrs)\n",
            "  File \"/usr/lib/python3.6/distutils/core.py\", line 148, in setup\n",
            "    dist.run_commands()\n",
            "  File \"/usr/lib/python3.6/distutils/dist.py\", line 955, in run_commands\n",
            "    self.run_command(cmd)\n",
            "  File \"/usr/lib/python3.6/distutils/dist.py\", line 974, in run_command\n",
            "    cmd_obj.run()\n",
            "  File \"/usr/local/lib/python3.6/dist-packages/setuptools/command/develop.py\", line 34, in run\n",
            "    self.install_for_development()\n",
            "  File \"/usr/local/lib/python3.6/dist-packages/setuptools/command/develop.py\", line 136, in install_for_development\n",
            "    self.run_command('build_ext')\n",
            "  File \"/usr/lib/python3.6/distutils/cmd.py\", line 313, in run_command\n",
            "    self.distribution.run_command(command)\n",
            "  File \"/usr/lib/python3.6/distutils/dist.py\", line 974, in run_command\n",
            "    cmd_obj.run()\n",
            "  File \"/usr/local/lib/python3.6/dist-packages/setuptools/command/build_ext.py\", line 79, in run\n",
            "    _build_ext.run(self)\n",
            "  File \"/usr/local/lib/python3.6/dist-packages/Cython/Distutils/old_build_ext.py\", line 186, in run\n",
            "    _build_ext.build_ext.run(self)\n",
            "  File \"/usr/lib/python3.6/distutils/command/build_ext.py\", line 339, in run\n",
            "    self.build_extensions()\n",
            "  File \"/usr/local/lib/python3.6/dist-packages/torch/utils/cpp_extension.py\", line 372, in build_extensions\n",
            "    build_ext.build_extensions(self)\n",
            "  File \"/usr/local/lib/python3.6/dist-packages/Cython/Distutils/old_build_ext.py\", line 195, in build_extensions\n",
            "    _build_ext.build_ext.build_extensions(self)\n",
            "  File \"/usr/lib/python3.6/distutils/command/build_ext.py\", line 448, in build_extensions\n",
            "    self._build_extensions_serial()\n",
            "  File \"/usr/lib/python3.6/distutils/command/build_ext.py\", line 473, in _build_extensions_serial\n",
            "    self.build_extension(ext)\n",
            "  File \"/usr/local/lib/python3.6/dist-packages/setuptools/command/build_ext.py\", line 196, in build_extension\n",
            "    _build_ext.build_extension(self, ext)\n",
            "  File \"/usr/lib/python3.6/distutils/command/build_ext.py\", line 533, in build_extension\n",
            "    depends=ext.depends)\n",
            "  File \"/usr/lib/python3.6/distutils/ccompiler.py\", line 574, in compile\n",
            "    self._compile(obj, src, ext, cc_args, extra_postargs, pp_opts)\n",
            "  File \"/usr/local/lib/python3.6/dist-packages/torch/utils/cpp_extension.py\", line 288, in unix_wrap_compile\n",
            "    \"'-fPIC'\"] + cflags + _get_cuda_arch_flags(cflags)\n",
            "  File \"/usr/local/lib/python3.6/dist-packages/torch/utils/cpp_extension.py\", line 1013, in _get_cuda_arch_flags\n",
            "    capability = torch.cuda.get_device_capability()\n",
            "  File \"/usr/local/lib/python3.6/dist-packages/torch/cuda/__init__.py\", line 320, in get_device_capability\n",
            "    prop = get_device_properties(device)\n",
            "  File \"/usr/local/lib/python3.6/dist-packages/torch/cuda/__init__.py\", line 325, in get_device_properties\n",
            "    _lazy_init()  # will define _get_device_properties and _CudaDeviceProperties\n",
            "  File \"/usr/local/lib/python3.6/dist-packages/torch/cuda/__init__.py\", line 197, in _lazy_init\n",
            "    torch._C._cuda_init()\n",
            "RuntimeError: cuda runtime error (100) : no CUDA-capable device is detected at /pytorch/aten/src/THC/THCGeneral.cpp:50\n"
          ],
          "name": "stdout"
        }
      ]
    }
  ]
}