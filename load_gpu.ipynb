{
  "nbformat": 4,
  "nbformat_minor": 0,
  "metadata": {
    "colab": {
      "name": "Untitled7.ipynb",
      "provenance": [],
      "authorship_tag": "ABX9TyPIDpVte8eeB7SswwR3GoYK",
      "include_colab_link": true
    },
    "kernelspec": {
      "name": "python3",
      "display_name": "Python 3"
    },
    "accelerator": "GPU"
  },
  "cells": [
    {
      "cell_type": "markdown",
      "metadata": {
        "id": "view-in-github",
        "colab_type": "text"
      },
      "source": [
        "<a href=\"https://colab.research.google.com/github/clementsiegrist/3D_reconstruction/blob/main/load_gpu.ipynb\" target=\"_parent\"><img src=\"https://colab.research.google.com/assets/colab-badge.svg\" alt=\"Open In Colab\"/></a>"
      ]
    },
    {
      "cell_type": "code",
      "metadata": {
        "colab": {
          "base_uri": "https://localhost:8080/"
        },
        "id": "ZBJDeEPTz540",
        "outputId": "8a907c91-1364-42af-93ee-360055f49f8b"
      },
      "source": [
        "!git clone https://github.com/Project-Splinter/MonoPort.git"
      ],
      "execution_count": 1,
      "outputs": [
        {
          "output_type": "stream",
          "text": [
            "Cloning into 'MonoPort'...\n",
            "remote: Enumerating objects: 522, done.\u001b[K\n",
            "remote: Counting objects: 100% (522/522), done.\u001b[K\n",
            "remote: Compressing objects: 100% (291/291), done.\u001b[K\n",
            "remote: Total 522 (delta 248), reused 469 (delta 213), pack-reused 0\n",
            "Receiving objects: 100% (522/522), 53.67 MiB | 42.21 MiB/s, done.\n",
            "Resolving deltas: 100% (248/248), done.\n"
          ],
          "name": "stdout"
        }
      ]
    },
    {
      "cell_type": "code",
      "metadata": {
        "colab": {
          "base_uri": "https://localhost:8080/"
        },
        "id": "ZuVSebXy0iwv",
        "outputId": "00e10482-a818-45f3-f813-8fb6bf8e844f"
      },
      "source": [
        "%cd /content/MonoPort"
      ],
      "execution_count": 35,
      "outputs": [
        {
          "output_type": "stream",
          "text": [
            "/content/MonoPort\n"
          ],
          "name": "stdout"
        }
      ]
    },
    {
      "cell_type": "code",
      "metadata": {
        "id": "Jr6Kyelc1iWi"
      },
      "source": [
        "import sys, setuptools, tokenize"
      ],
      "execution_count": 2,
      "outputs": []
    },
    {
      "cell_type": "code",
      "metadata": {
        "colab": {
          "base_uri": "https://localhost:8080/"
        },
        "id": "6OFtbtln0fRf",
        "outputId": "624e9fec-be7c-4c6a-d257-18fc73d8087e"
      },
      "source": [
        "!pip install -r requirements.txt"
      ],
      "execution_count": 5,
      "outputs": [
        {
          "output_type": "stream",
          "text": [
            "Requirement already satisfied: numpy in /usr/local/lib/python3.6/dist-packages (from -r requirements.txt (line 1)) (1.19.5)\n",
            "Collecting torch==1.4.0\n",
            "\u001b[?25l  Downloading https://files.pythonhosted.org/packages/24/19/4804aea17cd136f1705a5e98a00618cb8f6ccc375ad8bfa437408e09d058/torch-1.4.0-cp36-cp36m-manylinux1_x86_64.whl (753.4MB)\n",
            "\u001b[K     |████████████████████████████████| 753.4MB 15kB/s \n",
            "\u001b[?25hRequirement already satisfied: torchvision in /usr/local/lib/python3.6/dist-packages (from -r requirements.txt (line 3)) (0.8.1+cu101)\n",
            "Requirement already satisfied: Pillow in /usr/local/lib/python3.6/dist-packages (from -r requirements.txt (line 4)) (7.0.0)\n",
            "Requirement already satisfied: flask in /usr/local/lib/python3.6/dist-packages (from -r requirements.txt (line 5)) (1.1.2)\n",
            "Requirement already satisfied: scikit-image in /usr/local/lib/python3.6/dist-packages (from -r requirements.txt (line 6)) (0.16.2)\n",
            "Requirement already satisfied: opencv-python in /usr/local/lib/python3.6/dist-packages (from -r requirements.txt (line 7)) (4.1.2.30)\n",
            "Requirement already satisfied: tqdm in /usr/local/lib/python3.6/dist-packages (from -r requirements.txt (line 8)) (4.41.1)\n",
            "Requirement already satisfied: imageio in /usr/local/lib/python3.6/dist-packages (from -r requirements.txt (line 9)) (2.4.1)\n",
            "Collecting yacs\n",
            "  Downloading https://files.pythonhosted.org/packages/38/4f/fe9a4d472aa867878ce3bb7efb16654c5d63672b86dc0e6e953a67018433/yacs-0.1.8-py3-none-any.whl\n",
            "Requirement already satisfied: pyopengl in /usr/local/lib/python3.6/dist-packages (from -r requirements.txt (line 11)) (3.1.5)\n",
            "Collecting imageio-ffmpeg\n",
            "\u001b[?25l  Downloading https://files.pythonhosted.org/packages/89/0f/4b49476d185a273163fa648eaf1e7d4190661d1bbf37ec2975b84df9de02/imageio_ffmpeg-0.4.3-py3-none-manylinux2010_x86_64.whl (26.9MB)\n",
            "\u001b[K     |████████████████████████████████| 26.9MB 123kB/s \n",
            "\u001b[?25hCollecting human-det@ git+https://github.com/Project-Splinter/human_det\n",
            "  Cloning https://github.com/Project-Splinter/human_det to /tmp/pip-install-086g3dpb/human-det\n",
            "  Running command git clone -q https://github.com/Project-Splinter/human_det /tmp/pip-install-086g3dpb/human-det\n",
            "Collecting human-inst-seg@ git+https://github.com/Project-Splinter/human_inst_seg\n",
            "  Cloning https://github.com/Project-Splinter/human_inst_seg to /tmp/pip-install-086g3dpb/human-inst-seg\n",
            "  Running command git clone -q https://github.com/Project-Splinter/human_inst_seg /tmp/pip-install-086g3dpb/human-inst-seg\n",
            "Collecting implicit-seg@ git+https://github.com/Project-Splinter/ImplicitSegCUDA\n",
            "  Cloning https://github.com/Project-Splinter/ImplicitSegCUDA to /tmp/pip-install-086g3dpb/implicit-seg\n",
            "  Running command git clone -q https://github.com/Project-Splinter/ImplicitSegCUDA /tmp/pip-install-086g3dpb/implicit-seg\n",
            "Collecting streamer-pytorch@ git+https://github.com/Project-Splinter/streamer_pytorch\n",
            "  Cloning https://github.com/Project-Splinter/streamer_pytorch to /tmp/pip-install-086g3dpb/streamer-pytorch\n",
            "  Running command git clone -q https://github.com/Project-Splinter/streamer_pytorch /tmp/pip-install-086g3dpb/streamer-pytorch\n",
            "Requirement already satisfied: click>=5.1 in /usr/local/lib/python3.6/dist-packages (from flask->-r requirements.txt (line 5)) (7.1.2)\n",
            "Requirement already satisfied: Werkzeug>=0.15 in /usr/local/lib/python3.6/dist-packages (from flask->-r requirements.txt (line 5)) (1.0.1)\n",
            "Requirement already satisfied: itsdangerous>=0.24 in /usr/local/lib/python3.6/dist-packages (from flask->-r requirements.txt (line 5)) (1.1.0)\n",
            "Requirement already satisfied: Jinja2>=2.10.1 in /usr/local/lib/python3.6/dist-packages (from flask->-r requirements.txt (line 5)) (2.11.2)\n",
            "Requirement already satisfied: scipy>=0.19.0 in /usr/local/lib/python3.6/dist-packages (from scikit-image->-r requirements.txt (line 6)) (1.4.1)\n",
            "Requirement already satisfied: matplotlib!=3.0.0,>=2.0.0 in /usr/local/lib/python3.6/dist-packages (from scikit-image->-r requirements.txt (line 6)) (3.2.2)\n",
            "Requirement already satisfied: PyWavelets>=0.4.0 in /usr/local/lib/python3.6/dist-packages (from scikit-image->-r requirements.txt (line 6)) (1.1.1)\n",
            "Requirement already satisfied: networkx>=2.0 in /usr/local/lib/python3.6/dist-packages (from scikit-image->-r requirements.txt (line 6)) (2.5)\n",
            "Requirement already satisfied: PyYAML in /usr/local/lib/python3.6/dist-packages (from yacs->-r requirements.txt (line 10)) (3.13)\n",
            "Collecting segmentation_models_pytorch@ git+https://github.com/qubvel/segmentation_models.pytorch\n",
            "  Cloning https://github.com/qubvel/segmentation_models.pytorch to /tmp/pip-install-086g3dpb/segmentation-models-pytorch\n",
            "  Running command git clone -q https://github.com/qubvel/segmentation_models.pytorch /tmp/pip-install-086g3dpb/segmentation-models-pytorch\n",
            "Requirement already satisfied: MarkupSafe>=0.23 in /usr/local/lib/python3.6/dist-packages (from Jinja2>=2.10.1->flask->-r requirements.txt (line 5)) (1.1.1)\n",
            "Requirement already satisfied: kiwisolver>=1.0.1 in /usr/local/lib/python3.6/dist-packages (from matplotlib!=3.0.0,>=2.0.0->scikit-image->-r requirements.txt (line 6)) (1.3.1)\n",
            "Requirement already satisfied: pyparsing!=2.0.4,!=2.1.2,!=2.1.6,>=2.0.1 in /usr/local/lib/python3.6/dist-packages (from matplotlib!=3.0.0,>=2.0.0->scikit-image->-r requirements.txt (line 6)) (2.4.7)\n",
            "Requirement already satisfied: python-dateutil>=2.1 in /usr/local/lib/python3.6/dist-packages (from matplotlib!=3.0.0,>=2.0.0->scikit-image->-r requirements.txt (line 6)) (2.8.1)\n",
            "Requirement already satisfied: cycler>=0.10 in /usr/local/lib/python3.6/dist-packages (from matplotlib!=3.0.0,>=2.0.0->scikit-image->-r requirements.txt (line 6)) (0.10.0)\n",
            "Requirement already satisfied: decorator>=4.3.0 in /usr/local/lib/python3.6/dist-packages (from networkx>=2.0->scikit-image->-r requirements.txt (line 6)) (4.4.2)\n",
            "Collecting pretrainedmodels==0.7.4\n",
            "\u001b[?25l  Downloading https://files.pythonhosted.org/packages/84/0e/be6a0e58447ac16c938799d49bfb5fb7a80ac35e137547fc6cee2c08c4cf/pretrainedmodels-0.7.4.tar.gz (58kB)\n",
            "\u001b[K     |████████████████████████████████| 61kB 10.2MB/s \n",
            "\u001b[?25hCollecting efficientnet-pytorch==0.6.3\n",
            "  Downloading https://files.pythonhosted.org/packages/b8/cb/0309a6e3d404862ae4bc017f89645cf150ac94c14c88ef81d215c8e52925/efficientnet_pytorch-0.6.3.tar.gz\n",
            "Collecting timm==0.3.2\n",
            "\u001b[?25l  Downloading https://files.pythonhosted.org/packages/51/2d/39ecc56fbb202e1891c317e8e44667299bc3b0762ea2ed6aaaa2c2f6613c/timm-0.3.2-py3-none-any.whl (244kB)\n",
            "\u001b[K     |████████████████████████████████| 245kB 59.4MB/s \n",
            "\u001b[?25hRequirement already satisfied: six>=1.5 in /usr/local/lib/python3.6/dist-packages (from python-dateutil>=2.1->matplotlib!=3.0.0,>=2.0.0->scikit-image->-r requirements.txt (line 6)) (1.15.0)\n",
            "Collecting munch\n",
            "  Downloading https://files.pythonhosted.org/packages/cc/ab/85d8da5c9a45e072301beb37ad7f833cd344e04c817d97e0cc75681d248f/munch-2.5.0-py2.py3-none-any.whl\n",
            "Building wheels for collected packages: human-det, human-inst-seg, implicit-seg, streamer-pytorch, segmentation-models-pytorch, pretrainedmodels, efficientnet-pytorch\n",
            "  Building wheel for human-det (setup.py) ... \u001b[?25l\u001b[?25hdone\n",
            "  Created wheel for human-det: filename=human_det-0.0.2-cp36-none-any.whl size=10450 sha256=fb319c4e6b6c5312cadefb5635a95d034418e0a36f783fef2b75f31b1a2104b2\n",
            "  Stored in directory: /tmp/pip-ephem-wheel-cache-3d_gp3a0/wheels/9d/aa/2c/57e9e728922fda0def826cb5a256b2b5b855abf6a88341740d\n",
            "  Building wheel for human-inst-seg (setup.py) ... \u001b[?25l\u001b[?25hdone\n",
            "  Created wheel for human-inst-seg: filename=human_inst_seg-0.0.2-cp36-none-any.whl size=7960 sha256=9c5b1365d5be6f79e2ed1453577b58e39b0056e1ac963c6fefd22cfdf88e92e1\n",
            "  Stored in directory: /tmp/pip-ephem-wheel-cache-3d_gp3a0/wheels/9d/4e/88/76a002316f2a886c2a4b8d199f1f07282109f96b7f395e67b3\n",
            "  Building wheel for implicit-seg (setup.py) ... \u001b[?25l\u001b[?25hdone\n",
            "  Created wheel for implicit-seg: filename=implicit_seg-0.0.2-cp36-cp36m-linux_x86_64.whl size=3747293 sha256=c267523dde7a61bff76b5fd52326339fbe02ac41e9fe0c4ca8cb0de0d79e296a\n",
            "  Stored in directory: /tmp/pip-ephem-wheel-cache-3d_gp3a0/wheels/b6/7b/28/3c6a4473567402b81ac8201e68898977e6b2ce37fb97819c32\n",
            "  Building wheel for streamer-pytorch (setup.py) ... \u001b[?25l\u001b[?25hdone\n",
            "  Created wheel for streamer-pytorch: filename=streamer_pytorch-0.0.2-cp36-none-any.whl size=3774 sha256=abf50abc4c507d0de5d83599b771cc3c51d609dabade6c5644ddd7b3031cb352\n",
            "  Stored in directory: /tmp/pip-ephem-wheel-cache-3d_gp3a0/wheels/25/9c/39/dd023a03fd6206825035884989eeb81b73b4d35f670d0ba38e\n",
            "  Building wheel for segmentation-models-pytorch (setup.py) ... \u001b[?25l\u001b[?25hdone\n",
            "  Created wheel for segmentation-models-pytorch: filename=segmentation_models_pytorch-0.1.3-cp36-none-any.whl size=83183 sha256=68a10bd0173fc46b9a83c925f6f93109be989ba8928f148e647cee9e49547ba3\n",
            "  Stored in directory: /tmp/pip-ephem-wheel-cache-3d_gp3a0/wheels/79/3f/09/1587a252e0314d26ad242d6d2e165622ab95c95e5cfe4b942c\n",
            "  Building wheel for pretrainedmodels (setup.py) ... \u001b[?25l\u001b[?25hdone\n",
            "  Created wheel for pretrainedmodels: filename=pretrainedmodels-0.7.4-cp36-none-any.whl size=60963 sha256=1bea1ae713a3fb1829fed746b09e4301ee5b17b69f730ac4b59bec5f1d33e6da\n",
            "  Stored in directory: /root/.cache/pip/wheels/69/df/63/62583c096289713f22db605aa2334de5b591d59861a02c2ecd\n",
            "  Building wheel for efficientnet-pytorch (setup.py) ... \u001b[?25l\u001b[?25hdone\n",
            "  Created wheel for efficientnet-pytorch: filename=efficientnet_pytorch-0.6.3-cp36-none-any.whl size=12421 sha256=de4d71d737a9c8ee83bdff8784b657e4bfe3fded6d358d79e12869c7517bfa7f\n",
            "  Stored in directory: /root/.cache/pip/wheels/42/1e/a9/2a578ba9ad04e776e80bf0f70d8a7f4c29ec0718b92d8f6ccd\n",
            "Successfully built human-det human-inst-seg implicit-seg streamer-pytorch segmentation-models-pytorch pretrainedmodels efficientnet-pytorch\n",
            "\u001b[31mERROR: torchvision 0.8.1+cu101 has requirement torch==1.7.0, but you'll have torch 1.4.0 which is incompatible.\u001b[0m\n",
            "Installing collected packages: torch, yacs, imageio-ffmpeg, human-det, munch, pretrainedmodels, efficientnet-pytorch, timm, segmentation-models-pytorch, human-inst-seg, implicit-seg, streamer-pytorch\n",
            "  Found existing installation: torch 1.7.0+cu101\n",
            "    Uninstalling torch-1.7.0+cu101:\n",
            "      Successfully uninstalled torch-1.7.0+cu101\n",
            "Successfully installed efficientnet-pytorch-0.6.3 human-det-0.0.2 human-inst-seg-0.0.2 imageio-ffmpeg-0.4.3 implicit-seg-0.0.2 munch-2.5.0 pretrainedmodels-0.7.4 segmentation-models-pytorch-0.1.3 streamer-pytorch-0.0.2 timm-0.3.2 torch-1.4.0 yacs-0.1.8\n"
          ],
          "name": "stdout"
        }
      ]
    },
    {
      "cell_type": "code",
      "metadata": {
        "id": "MfWalF2C4J6D"
      },
      "source": [
        "!pip install git+https://github.com/Project-Splinter/ImplicitSegCUDA --upgrade"
      ],
      "execution_count": null,
      "outputs": []
    },
    {
      "cell_type": "code",
      "metadata": {
        "colab": {
          "base_uri": "https://localhost:8080/"
        },
        "id": "G8_GgrCh1KOp",
        "outputId": "947344ea-a76f-41bb-af4a-d7d6f2bd3d1a"
      },
      "source": [
        "!sh scripts/download_model.sh"
      ],
      "execution_count": 6,
      "outputs": [
        {
          "output_type": "stream",
          "text": [
            "--2021-01-22 17:58:20--  https://drive.google.com/uc?export=download&id=1zEmVXG2VHy0MMzngcRshB4D8Sr_oLHsm\n",
            "Resolving drive.google.com (drive.google.com)... 172.217.8.14, 2607:f8b0:4004:803::200e\n",
            "Connecting to drive.google.com (drive.google.com)|172.217.8.14|:443... connected.\n",
            "HTTP request sent, awaiting response... 302 Moved Temporarily\n",
            "Location: https://doc-14-0o-docs.googleusercontent.com/docs/securesc/ha0ro937gcuc7l7deffksulhg5h7mbp1/v0ut4em32f34bsc744u2285vvla27aao/1611338250000/14428417455748421393/*/1zEmVXG2VHy0MMzngcRshB4D8Sr_oLHsm?e=download [following]\n",
            "Warning: wildcards not supported in HTTP.\n",
            "--2021-01-22 17:58:23--  https://doc-14-0o-docs.googleusercontent.com/docs/securesc/ha0ro937gcuc7l7deffksulhg5h7mbp1/v0ut4em32f34bsc744u2285vvla27aao/1611338250000/14428417455748421393/*/1zEmVXG2VHy0MMzngcRshB4D8Sr_oLHsm?e=download\n",
            "Resolving doc-14-0o-docs.googleusercontent.com (doc-14-0o-docs.googleusercontent.com)... 172.217.15.97, 2607:f8b0:4004:811::2001\n",
            "Connecting to doc-14-0o-docs.googleusercontent.com (doc-14-0o-docs.googleusercontent.com)|172.217.15.97|:443... connected.\n",
            "HTTP request sent, awaiting response... 200 OK\n",
            "Length: unspecified [application/octet-stream]\n",
            "Saving to: ‘net_G’\n",
            "\n",
            "net_G                   [   <=>              ]  59.61M   138MB/s    in 0.4s    \n",
            "\n",
            "2021-01-22 17:58:23 (138 MB/s) - ‘net_G’ saved [62510909]\n",
            "\n",
            "--2021-01-22 17:58:23--  https://drive.google.com/uc?export=download&id=1V83B6GDIjYMfHdpg-KcCSAPgHxpafHgd\n",
            "Resolving drive.google.com (drive.google.com)... 172.217.8.14, 2607:f8b0:4004:803::200e\n",
            "Connecting to drive.google.com (drive.google.com)|172.217.8.14|:443... connected.\n",
            "HTTP request sent, awaiting response... 302 Moved Temporarily\n",
            "Location: https://doc-00-0o-docs.googleusercontent.com/docs/securesc/ha0ro937gcuc7l7deffksulhg5h7mbp1/rtt7hg7j57vb7ttmrel66e2svk7psdio/1611338250000/14428417455748421393/*/1V83B6GDIjYMfHdpg-KcCSAPgHxpafHgd?e=download [following]\n",
            "Warning: wildcards not supported in HTTP.\n",
            "--2021-01-22 17:58:25--  https://doc-00-0o-docs.googleusercontent.com/docs/securesc/ha0ro937gcuc7l7deffksulhg5h7mbp1/rtt7hg7j57vb7ttmrel66e2svk7psdio/1611338250000/14428417455748421393/*/1V83B6GDIjYMfHdpg-KcCSAPgHxpafHgd?e=download\n",
            "Resolving doc-00-0o-docs.googleusercontent.com (doc-00-0o-docs.googleusercontent.com)... 172.217.15.97, 2607:f8b0:4004:811::2001\n",
            "Connecting to doc-00-0o-docs.googleusercontent.com (doc-00-0o-docs.googleusercontent.com)|172.217.15.97|:443... connected.\n",
            "HTTP request sent, awaiting response... 200 OK\n",
            "Length: unspecified [application/octet-stream]\n",
            "Saving to: ‘net_C’\n",
            "\n",
            "net_C                   [    <=>             ]  34.88M  50.3MB/s    in 0.7s    \n",
            "\n",
            "2021-01-22 17:58:26 (50.3 MB/s) - ‘net_C’ saved [36570643]\n",
            "\n"
          ],
          "name": "stdout"
        }
      ]
    },
    {
      "cell_type": "code",
      "metadata": {
        "colab": {
          "base_uri": "https://localhost:8080/",
          "height": 595
        },
        "id": "QTmuBSs7aJRM",
        "outputId": "bd8e8eb6-9095-4de6-ce20-52d763cb2b7c"
      },
      "source": [
        "!pip uninstall torchvision\r\n",
        "!pip install torchvision==0.4.0 -f https://download.pytorch.org/whl/torch_stable.html"
      ],
      "execution_count": 87,
      "outputs": [
        {
          "output_type": "stream",
          "text": [
            "Uninstalling torchvision-0.8.1+cu101:\n",
            "  Would remove:\n",
            "    /usr/local/lib/python3.6/dist-packages/torchvision-0.8.1+cu101.dist-info/*\n",
            "    /usr/local/lib/python3.6/dist-packages/torchvision.libs/libcudart.c740f4ef.so.10.1\n",
            "    /usr/local/lib/python3.6/dist-packages/torchvision.libs/libjpeg.ceea7512.so.62\n",
            "    /usr/local/lib/python3.6/dist-packages/torchvision.libs/libpng16.7f72a3c5.so.16\n",
            "    /usr/local/lib/python3.6/dist-packages/torchvision.libs/libz.1328edc3.so.1\n",
            "    /usr/local/lib/python3.6/dist-packages/torchvision/*\n",
            "Proceed (y/n)? y\n",
            "  Successfully uninstalled torchvision-0.8.1+cu101\n",
            "Looking in links: https://download.pytorch.org/whl/torch_stable.html\n",
            "Collecting torchvision==0.4.0\n",
            "\u001b[?25l  Downloading https://download.pytorch.org/whl/cu92/torchvision-0.4.0%2Bcu92-cp36-cp36m-manylinux1_x86_64.whl (8.8MB)\n",
            "\u001b[K     |████████████████████████████████| 8.8MB 47.6MB/s \n",
            "\u001b[?25hRequirement already satisfied: six in /usr/local/lib/python3.6/dist-packages (from torchvision==0.4.0) (1.15.0)\n",
            "Requirement already satisfied: pillow>=4.1.1 in /usr/local/lib/python3.6/dist-packages (from torchvision==0.4.0) (7.0.0)\n",
            "Collecting torch==1.2.0\n",
            "\u001b[?25l  Downloading https://download.pytorch.org/whl/cu92/torch-1.2.0%2Bcu92-cp36-cp36m-manylinux1_x86_64.whl (663.1MB)\n",
            "\u001b[K     |████████████████████████████████| 663.1MB 25kB/s \n",
            "\u001b[?25hRequirement already satisfied: numpy in /usr/local/lib/python3.6/dist-packages (from torchvision==0.4.0) (1.19.5)\n",
            "Installing collected packages: torch, torchvision\n",
            "  Found existing installation: torch 1.4.0\n",
            "    Uninstalling torch-1.4.0:\n",
            "      Successfully uninstalled torch-1.4.0\n",
            "Successfully installed torch-1.2.0+cu92 torchvision-0.4.0+cu92\n"
          ],
          "name": "stdout"
        },
        {
          "output_type": "display_data",
          "data": {
            "application/vnd.colab-display-data+json": {
              "pip_warning": {
                "packages": [
                  "torch"
                ]
              }
            }
          },
          "metadata": {
            "tags": []
          }
        }
      ]
    },
    {
      "cell_type": "code",
      "metadata": {
        "colab": {
          "base_uri": "https://localhost:8080/",
          "height": 296
        },
        "id": "h7zzAEwKbYP2",
        "outputId": "5e670cd1-cbe5-4134-a5cc-0b0cb382faeb"
      },
      "source": [
        "!pip install pillow==6.1"
      ],
      "execution_count": 9,
      "outputs": [
        {
          "output_type": "stream",
          "text": [
            "Collecting pillow==6.1\n",
            "\u001b[?25l  Downloading https://files.pythonhosted.org/packages/14/41/db6dec65ddbc176a59b89485e8cc136a433ed9c6397b6bfe2cd38412051e/Pillow-6.1.0-cp36-cp36m-manylinux1_x86_64.whl (2.1MB)\n",
            "\u001b[K     |████████████████████████████████| 2.1MB 18.0MB/s \n",
            "\u001b[31mERROR: albumentations 0.1.12 has requirement imgaug<0.2.7,>=0.2.5, but you'll have imgaug 0.2.9 which is incompatible.\u001b[0m\n",
            "\u001b[?25hInstalling collected packages: pillow\n",
            "  Found existing installation: Pillow 7.0.0\n",
            "    Uninstalling Pillow-7.0.0:\n",
            "      Successfully uninstalled Pillow-7.0.0\n",
            "Successfully installed pillow-6.1.0\n"
          ],
          "name": "stdout"
        },
        {
          "output_type": "display_data",
          "data": {
            "application/vnd.colab-display-data+json": {
              "pip_warning": {
                "packages": [
                  "PIL"
                ]
              }
            }
          },
          "metadata": {
            "tags": []
          }
        }
      ]
    },
    {
      "cell_type": "code",
      "metadata": {
        "colab": {
          "base_uri": "https://localhost:8080/",
          "height": 390
        },
        "id": "t5v2hOEecO4S",
        "outputId": "b42589b8-6c78-4022-bc03-95c81cf79aea"
      },
      "source": [
        "!pip uninstall torch -y\r\n",
        "!pip install --pre torch torchvision -f https://download.pytorch.org/whl/nightly/cu100/torch_nightly.html"
      ],
      "execution_count": 36,
      "outputs": [
        {
          "output_type": "stream",
          "text": [
            "Uninstalling torch-1.7.1:\n",
            "  Successfully uninstalled torch-1.7.1\n",
            "Looking in links: https://download.pytorch.org/whl/nightly/cu100/torch_nightly.html\n",
            "Collecting torch\n",
            "  Using cached https://files.pythonhosted.org/packages/90/4f/acf48b3a18a8f9223c6616647f0a011a5713a985336088d7c76f3a211374/torch-1.7.1-cp36-cp36m-manylinux1_x86_64.whl\n",
            "Requirement already satisfied: torchvision in /usr/local/lib/python3.6/dist-packages (0.4.0+cu92)\n",
            "Requirement already satisfied: numpy in /usr/local/lib/python3.6/dist-packages (from torch) (1.19.5)\n",
            "Requirement already satisfied: typing-extensions in /usr/local/lib/python3.6/dist-packages (from torch) (3.7.4.3)\n",
            "Requirement already satisfied: dataclasses; python_version < \"3.7\" in /usr/local/lib/python3.6/dist-packages (from torch) (0.8)\n",
            "Requirement already satisfied: pillow>=4.1.1 in /usr/local/lib/python3.6/dist-packages (from torchvision) (6.1.0)\n",
            "Requirement already satisfied: six in /usr/local/lib/python3.6/dist-packages (from torchvision) (1.15.0)\n",
            "\u001b[31mERROR: torchvision 0.4.0+cu92 has requirement torch==1.2.0, but you'll have torch 1.7.1 which is incompatible.\u001b[0m\n",
            "Installing collected packages: torch\n",
            "Successfully installed torch-1.7.1\n"
          ],
          "name": "stdout"
        },
        {
          "output_type": "display_data",
          "data": {
            "application/vnd.colab-display-data+json": {
              "pip_warning": {
                "packages": [
                  "torch"
                ]
              }
            }
          },
          "metadata": {
            "tags": []
          }
        }
      ]
    },
    {
      "cell_type": "code",
      "metadata": {
        "colab": {
          "base_uri": "https://localhost:8080/"
        },
        "id": "20dyTyM3ZoZr",
        "outputId": "e6ae3b6b-ac69-4bae-dcdf-6e39cd75d3c3"
      },
      "source": [
        "import MonoPort\r\n",
        "from MonoPort import monoport\r\n",
        "from MonoPort.monoport.lib.common.config import get_cfg_defaults\r\n",
        "from MonoPort.monoport.lib.modeling.MonoPortNet import MonoPortNet\r\n",
        "from MonoPort.monoport.lib.modeling.MonoPortNet import PIFuNetG, PIFuNetC\r\n",
        "from MonoPort.monoport.lib.modeling.geometry import orthogonal, perspective\r\n",
        "from MonoPort.monoport.lib.render.gl.glcontext import create_opengl_context\r\n",
        "from MonoPort.monoport.lib.render.gl.AlbedoRender import AlbedoRender\r\n",
        "\r\n",
        "import streamer_pytorch as streamer\r\n",
        "import human_inst_seg\r\n",
        "from implicit_seg.functional import Seg3dTopk, Seg3dLossless\r\n",
        "from implicit_seg.functional.utils import plot_mask3D\r\n",
        "from MonoPort.RTL.dataloader import DataLoader\r\n",
        "#from dataloader import DataLoader\r\n",
        "from MonoPort.RTL.recon import pifu_calib, forward_vertices\r\n",
        "from MonoPort.monoport.lib.render.gl.glcontext import create_opengl_context\r\n",
        "from MonoPort.monoport.lib.render.gl.AlbedoRender import AlbedoRender\r\n",
        "from MonoPort.monoport.lib.render.BaseCamera import BaseCamera\r\n",
        "from MonoPort.monoport.lib.render.PespectiveCamera import PersPectiveCamera\r\n",
        "from MonoPort.monoport.lib.render.CameraPose import CameraPose\r\n",
        "from MonoPort.monoport.lib.mesh_util import load_obj_mesh\r\n",
        "from MonoPort.RTL.scene import MonoPortScene, make_rotate\r\n",
        "from MonoPort.RTL.recon import pifu_calib, forward_vertices\r\n",
        "from MonoPort.monoport.lib.mesh_util import load_obj_mesh"
      ],
      "execution_count": 1,
      "outputs": [
        {
          "output_type": "stream",
          "text": [
            "Downloading: \"https://github.com/pytorch/vision/archive/v0.4.0.zip\" to /root/.cache/torch/hub/v0.4.0.zip\n"
          ],
          "name": "stderr"
        }
      ]
    },
    {
      "cell_type": "code",
      "metadata": {
        "colab": {
          "base_uri": "https://localhost:8080/"
        },
        "id": "khsJv9bpkbMD",
        "outputId": "0785a0ac-5aed-487f-f46a-a0424cd0ab7f"
      },
      "source": [
        "import torch\r\n",
        "print(torch.__version__)\r\n",
        "if torch.cuda.is_available:\r\n",
        "  print('GPU available')\r\n",
        "else:\r\n",
        "  print('Please set GPU via Edit -> Notebook Settings.')\r\n",
        "dev = torch.cuda.device_count()\r\n",
        "print(dev)"
      ],
      "execution_count": 4,
      "outputs": [
        {
          "output_type": "stream",
          "text": [
            "1.7.1\n",
            "GPU available\n",
            "0\n"
          ],
          "name": "stdout"
        }
      ]
    },
    {
      "cell_type": "code",
      "metadata": {
        "colab": {
          "base_uri": "https://localhost:8080/"
        },
        "id": "lghpH6AmFzRJ",
        "outputId": "c3d4b750-26ae-4e35-9aa3-9adce205612e"
      },
      "source": [
        "!python /content/main.py --use_server --ip 192.168.1.40 --port 5555 --image_folder /content/img_folder -- netG.ckpt_path ./data/PIFu/net_G netC.ckpt_path ./data/PIFu/net_C"
      ],
      "execution_count": 33,
      "outputs": [
        {
          "output_type": "stream",
          "text": [
            "Downloading: \"https://github.com/pytorch/vision/archive/v0.4.0.zip\" to /root/.cache/torch/hub/v0.4.0.zip\n",
            "/usr/local/lib/python3.6/dist-packages/torch/cuda/__init__.py:52: UserWarning: CUDA initialization: The NVIDIA driver on your system is too old (found version 10010). Please update your GPU driver by downloading and installing a new version from the URL: http://www.nvidia.com/Download/index.aspx Alternatively, go to: https://pytorch.org to install a PyTorch version that has been compiled with your version of the CUDA driver. (Triggered internally at  /pytorch/c10/cuda/CUDAFunctions.cpp:100.)\n",
            "  return torch._C._cuda_getDeviceCount() > 0\n",
            "0\n",
            "Traceback (most recent call last):\n",
            "  File \"/content/main.py\", line 96, in <module>\n",
            "    raise NotImplementedError\n",
            "NotImplementedError\n"
          ],
          "name": "stdout"
        }
      ]
    },
    {
      "cell_type": "code",
      "metadata": {
        "colab": {
          "base_uri": "https://localhost:8080/",
          "height": 380
        },
        "id": "XsTSbIZtNx2u",
        "outputId": "d8f1927d-fb65-4a52-82e1-72aeeb71b2ca"
      },
      "source": [
        "import MonoPort\r\n",
        "#https://github.com/pytorch/pytorch/issues/42078 \r\n",
        "'''\r\n",
        "Try downgrading torchversion to 0.4.0\r\n",
        "pip uninstall torchvision\r\n",
        "pip install torchvision==0.4.0 -f https://download.pytorch.org/whl/torch_stable.html\r\n",
        "'''"
      ],
      "execution_count": 24,
      "outputs": [
        {
          "output_type": "error",
          "ename": "ValueError",
          "evalue": "ignored",
          "traceback": [
            "\u001b[0;31m---------------------------------------------------------------------------\u001b[0m",
            "\u001b[0;31mValueError\u001b[0m                                Traceback (most recent call last)",
            "\u001b[0;32m<ipython-input-24-2b0bd2b8c3ee>\u001b[0m in \u001b[0;36m<module>\u001b[0;34m()\u001b[0m\n\u001b[1;32m      1\u001b[0m \u001b[0;32mimport\u001b[0m \u001b[0mMonoPort\u001b[0m\u001b[0;34m\u001b[0m\u001b[0;34m\u001b[0m\u001b[0m\n\u001b[0;32m----> 2\u001b[0;31m \u001b[0;32mfrom\u001b[0m \u001b[0mMonoPort\u001b[0m\u001b[0;34m.\u001b[0m\u001b[0mRTL\u001b[0m \u001b[0;32mimport\u001b[0m \u001b[0mmain\u001b[0m\u001b[0;34m\u001b[0m\u001b[0;34m\u001b[0m\u001b[0m\n\u001b[0m\u001b[1;32m      3\u001b[0m \u001b[0;31m#https://github.com/pytorch/pytorch/issues/42078\u001b[0m\u001b[0;34m\u001b[0m\u001b[0;34m\u001b[0m\u001b[0;34m\u001b[0m\u001b[0m\n\u001b[1;32m      4\u001b[0m '''\n\u001b[1;32m      5\u001b[0m \u001b[0mTry\u001b[0m \u001b[0mdowngrading\u001b[0m \u001b[0mtorchversion\u001b[0m \u001b[0mto\u001b[0m \u001b[0;36m0.4\u001b[0m\u001b[0;36m.0\u001b[0m\u001b[0;34m\u001b[0m\u001b[0;34m\u001b[0m\u001b[0m\n",
            "\u001b[0;32m/content/MonoPort/RTL/main.py\u001b[0m in \u001b[0;36m<module>\u001b[0;34m()\u001b[0m\n\u001b[1;32m     60\u001b[0m \u001b[0;34m\u001b[0m\u001b[0m\n\u001b[1;32m     61\u001b[0m \u001b[0;34m\u001b[0m\u001b[0m\n\u001b[0;32m---> 62\u001b[0;31m \u001b[0margv\u001b[0m \u001b[0;34m=\u001b[0m \u001b[0msys\u001b[0m\u001b[0;34m.\u001b[0m\u001b[0margv\u001b[0m\u001b[0;34m[\u001b[0m\u001b[0;36m1\u001b[0m\u001b[0;34m:\u001b[0m\u001b[0msys\u001b[0m\u001b[0;34m.\u001b[0m\u001b[0margv\u001b[0m\u001b[0;34m.\u001b[0m\u001b[0mindex\u001b[0m\u001b[0;34m(\u001b[0m\u001b[0;34m'--'\u001b[0m\u001b[0;34m)\u001b[0m\u001b[0;34m]\u001b[0m\u001b[0;34m\u001b[0m\u001b[0;34m\u001b[0m\u001b[0m\n\u001b[0m\u001b[1;32m     63\u001b[0m \u001b[0margs\u001b[0m \u001b[0;34m=\u001b[0m \u001b[0mparser\u001b[0m\u001b[0;34m.\u001b[0m\u001b[0mparse_args\u001b[0m\u001b[0;34m(\u001b[0m\u001b[0margv\u001b[0m\u001b[0;34m)\u001b[0m\u001b[0;34m\u001b[0m\u001b[0;34m\u001b[0m\u001b[0m\n\u001b[1;32m     64\u001b[0m \u001b[0mopts\u001b[0m \u001b[0;34m=\u001b[0m \u001b[0msys\u001b[0m\u001b[0;34m.\u001b[0m\u001b[0margv\u001b[0m\u001b[0;34m[\u001b[0m\u001b[0msys\u001b[0m\u001b[0;34m.\u001b[0m\u001b[0margv\u001b[0m\u001b[0;34m.\u001b[0m\u001b[0mindex\u001b[0m\u001b[0;34m(\u001b[0m\u001b[0;34m'--'\u001b[0m\u001b[0;34m)\u001b[0m \u001b[0;34m+\u001b[0m \u001b[0;36m1\u001b[0m\u001b[0;34m:\u001b[0m\u001b[0;34m]\u001b[0m\u001b[0;34m\u001b[0m\u001b[0;34m\u001b[0m\u001b[0m\n",
            "\u001b[0;31mValueError\u001b[0m: '--' is not in list"
          ]
        }
      ]
    }
  ]
}